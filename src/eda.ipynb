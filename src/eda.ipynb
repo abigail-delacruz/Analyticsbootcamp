{
 "cells": [
  {
   "cell_type": "code",
   "execution_count": 97,
   "metadata": {},
   "outputs": [],
   "source": [
    "%matplotlib inline"
   ]
  },
  {
   "cell_type": "code",
   "execution_count": 110,
   "metadata": {},
   "outputs": [],
   "source": [
    "import pandas as pd #Manejo de datos tabulados\n",
    "import numpy as np #Algebra Lineal y operaciones matematicas\n",
    "import matplotlib.pyplot as plt #Graficos de datos\n",
    "import seaborn as sns #Graficos estadisticos\n",
    "import pandas_profiling as ppr  #\n",
    "from fitter import fitter #Ajustes de distribuciones de probs"
   ]
  },
  {
   "cell_type": "code",
   "execution_count": null,
   "metadata": {},
   "outputs": [],
   "source": [
    "sns.set_theme(style=\"whitegrid\")"
   ]
  },
  {
   "cell_type": "code",
   "execution_count": 99,
   "metadata": {},
   "outputs": [],
   "source": [
    "##Leemos los datos seleccionados\n",
    "df_main=pd.read_csv('../DATA/TB_HOSP_VAC_FALLECIDOS.csv')\n",
    "df_oxigen=pd.read_csv('../DATA/Oxigeno_25-10-2021.csv',sep=\"|\")"
   ]
  },
  {
   "cell_type": "code",
   "execution_count": 100,
   "metadata": {},
   "outputs": [
    {
     "name": "stdout",
     "output_type": "stream",
     "text": [
      "<class 'pandas.core.frame.DataFrame'>\n",
      "RangeIndex: 137449 entries, 0 to 137448\n",
      "Data columns (total 30 columns):\n",
      " #   Column                        Non-Null Count   Dtype  \n",
      "---  ------                        --------------   -----  \n",
      " 0   eess_renaes                   137449 non-null  int64  \n",
      " 1   eess_diresa                   137449 non-null  object \n",
      " 2   eess_red                      137449 non-null  object \n",
      " 3   eess_nombre                   137449 non-null  object \n",
      " 4   id_eess                       137449 non-null  int64  \n",
      " 5   id_persona                    137449 non-null  int64  \n",
      " 6   edad                          129401 non-null  float64\n",
      " 7   sexo                          130398 non-null  object \n",
      " 8   fecha_ingreso_hosp            137449 non-null  object \n",
      " 9   flag_uci                      137449 non-null  int64  \n",
      " 10  fecha_ingreso_uci             13114 non-null   object \n",
      " 11  fecha_ingreso_ucin            7016 non-null    object \n",
      " 12  con_oxigeno                   137444 non-null  float64\n",
      " 13  con_ventilacion               137435 non-null  float64\n",
      " 14  fecha_segumiento_hosp_ultimo  137448 non-null  object \n",
      " 15  evolucion_hosp_ultimo         135534 non-null  object \n",
      " 16  flag_vacuna                   137449 non-null  int64  \n",
      " 17  fecha_dosis1                  84251 non-null   object \n",
      " 18  fabricante_dosis1             84251 non-null   object \n",
      " 19  fecha_dosis2                  78078 non-null   object \n",
      " 20  fabricante_dosis2             78078 non-null   object \n",
      " 21  fecha_dosis3                  43280 non-null   object \n",
      " 22  fabricante_dosis3             43280 non-null   object \n",
      " 23  cdc_positividad               137449 non-null  int64  \n",
      " 24  cdc_fecha_fallecido_covid     37801 non-null   object \n",
      " 25  cdc_fallecido_covid           137449 non-null  int64  \n",
      " 26  ubigeo_inei_domicilio         137449 non-null  int64  \n",
      " 27  dep_domicilio                 137449 non-null  object \n",
      " 28  prov_domicilio                137449 non-null  object \n",
      " 29  dist_domicilio                137449 non-null  object \n",
      "dtypes: float64(3), int64(8), object(19)\n",
      "memory usage: 31.5+ MB\n"
     ]
    }
   ],
   "source": [
    "df_main.info()"
   ]
  },
  {
   "cell_type": "code",
   "execution_count": 101,
   "metadata": {},
   "outputs": [
    {
     "data": {
      "text/html": [
       "<div>\n",
       "<style scoped>\n",
       "    .dataframe tbody tr th:only-of-type {\n",
       "        vertical-align: middle;\n",
       "    }\n",
       "\n",
       "    .dataframe tbody tr th {\n",
       "        vertical-align: top;\n",
       "    }\n",
       "\n",
       "    .dataframe thead th {\n",
       "        text-align: right;\n",
       "    }\n",
       "</style>\n",
       "<table border=\"1\" class=\"dataframe\">\n",
       "  <thead>\n",
       "    <tr style=\"text-align: right;\">\n",
       "      <th></th>\n",
       "      <th>FECHACORTE</th>\n",
       "      <th>FECHAREGISTRO</th>\n",
       "      <th>CODIGO</th>\n",
       "      <th>NOMBRE</th>\n",
       "      <th>CATEGORIA</th>\n",
       "      <th>NIVEL</th>\n",
       "      <th>INSTITUCIÓN</th>\n",
       "      <th>GRUPO</th>\n",
       "      <th>SUB_GRUPO</th>\n",
       "      <th>MACROREGIONES</th>\n",
       "      <th>...</th>\n",
       "      <th>TOT_PUNTOS_RED_INOPER_HOSP</th>\n",
       "      <th>TOT_PUNTOS_RED_EMER</th>\n",
       "      <th>TOT_PUNTOS_RED_OPER_EMER</th>\n",
       "      <th>TOT_PUNTOS_RED_INOPER_EMER</th>\n",
       "      <th>TOT_PUNTOS_RED_AHT</th>\n",
       "      <th>TOT_PUNTOS_RED_OPER_AHT</th>\n",
       "      <th>TOT_PUNTOS_RED_INOPER_AHT</th>\n",
       "      <th>TOT_PUNTOS_RED_AACT</th>\n",
       "      <th>TOT_PUNTOS_RED_OPER_AACT</th>\n",
       "      <th>TOT_PUNTOS_RED_INOPER_AACT</th>\n",
       "    </tr>\n",
       "  </thead>\n",
       "  <tbody>\n",
       "    <tr>\n",
       "      <th>0</th>\n",
       "      <td>20210330</td>\n",
       "      <td>2021/03/30 11:14:29 PM</td>\n",
       "      <td>15266.0</td>\n",
       "      <td>CLINICA Y BOTICA SAN JUAN</td>\n",
       "      <td>II-1</td>\n",
       "      <td>Nivel 2</td>\n",
       "      <td>PRIVADO</td>\n",
       "      <td>PRIVADOS</td>\n",
       "      <td>PRIVADOS</td>\n",
       "      <td>Zona Norte</td>\n",
       "      <td>...</td>\n",
       "      <td>NaN</td>\n",
       "      <td>NaN</td>\n",
       "      <td>NaN</td>\n",
       "      <td>NaN</td>\n",
       "      <td>NaN</td>\n",
       "      <td>NaN</td>\n",
       "      <td>NaN</td>\n",
       "      <td>NaN</td>\n",
       "      <td>NaN</td>\n",
       "      <td>NaN</td>\n",
       "    </tr>\n",
       "    <tr>\n",
       "      <th>1</th>\n",
       "      <td>20210331</td>\n",
       "      <td>2021/03/31  6:11:05 AM</td>\n",
       "      <td>9748.0</td>\n",
       "      <td>HOSPITAL I OXAPAMPA</td>\n",
       "      <td>II-1</td>\n",
       "      <td>Nivel 2</td>\n",
       "      <td>ESSALUD</td>\n",
       "      <td>PÚBLICOS</td>\n",
       "      <td>ESSALUD</td>\n",
       "      <td>Zona Centro</td>\n",
       "      <td>...</td>\n",
       "      <td>NaN</td>\n",
       "      <td>NaN</td>\n",
       "      <td>NaN</td>\n",
       "      <td>NaN</td>\n",
       "      <td>NaN</td>\n",
       "      <td>NaN</td>\n",
       "      <td>NaN</td>\n",
       "      <td>NaN</td>\n",
       "      <td>NaN</td>\n",
       "      <td>NaN</td>\n",
       "    </tr>\n",
       "    <tr>\n",
       "      <th>2</th>\n",
       "      <td>20210331</td>\n",
       "      <td>2021/03/31  6:30:00 AM</td>\n",
       "      <td>10244.0</td>\n",
       "      <td>HOSPITAL II JORGE REATEGUI DELGADO</td>\n",
       "      <td>II-1</td>\n",
       "      <td>Nivel 2</td>\n",
       "      <td>ESSALUD</td>\n",
       "      <td>PÚBLICOS</td>\n",
       "      <td>ESSALUD</td>\n",
       "      <td>Zona Norte</td>\n",
       "      <td>...</td>\n",
       "      <td>NaN</td>\n",
       "      <td>NaN</td>\n",
       "      <td>NaN</td>\n",
       "      <td>NaN</td>\n",
       "      <td>NaN</td>\n",
       "      <td>NaN</td>\n",
       "      <td>NaN</td>\n",
       "      <td>NaN</td>\n",
       "      <td>NaN</td>\n",
       "      <td>NaN</td>\n",
       "    </tr>\n",
       "    <tr>\n",
       "      <th>3</th>\n",
       "      <td>20210331</td>\n",
       "      <td>2021/03/31  7:22:06 AM</td>\n",
       "      <td>10533.0</td>\n",
       "      <td>HOSPITAL II LIMA NORTE CALLAO \"LUIS NEGREIROS ...</td>\n",
       "      <td>II-2</td>\n",
       "      <td>Nivel 2</td>\n",
       "      <td>ESSALUD</td>\n",
       "      <td>PÚBLICOS</td>\n",
       "      <td>ESSALUD</td>\n",
       "      <td>NaN</td>\n",
       "      <td>...</td>\n",
       "      <td>NaN</td>\n",
       "      <td>NaN</td>\n",
       "      <td>NaN</td>\n",
       "      <td>NaN</td>\n",
       "      <td>NaN</td>\n",
       "      <td>NaN</td>\n",
       "      <td>NaN</td>\n",
       "      <td>NaN</td>\n",
       "      <td>NaN</td>\n",
       "      <td>NaN</td>\n",
       "    </tr>\n",
       "    <tr>\n",
       "      <th>4</th>\n",
       "      <td>20210331</td>\n",
       "      <td>2021/03/31  7:25:06 AM</td>\n",
       "      <td>13911.0</td>\n",
       "      <td>MARIA REICHE NEUMAN</td>\n",
       "      <td>I-3</td>\n",
       "      <td>Nivel 1</td>\n",
       "      <td>ESSALUD</td>\n",
       "      <td>PÚBLICOS</td>\n",
       "      <td>ESSALUD</td>\n",
       "      <td>Zona Sur</td>\n",
       "      <td>...</td>\n",
       "      <td>NaN</td>\n",
       "      <td>NaN</td>\n",
       "      <td>NaN</td>\n",
       "      <td>NaN</td>\n",
       "      <td>NaN</td>\n",
       "      <td>NaN</td>\n",
       "      <td>NaN</td>\n",
       "      <td>NaN</td>\n",
       "      <td>NaN</td>\n",
       "      <td>NaN</td>\n",
       "    </tr>\n",
       "  </tbody>\n",
       "</table>\n",
       "<p>5 rows × 100 columns</p>\n",
       "</div>"
      ],
      "text/plain": [
       "   FECHACORTE           FECHAREGISTRO   CODIGO  \\\n",
       "0    20210330  2021/03/30 11:14:29 PM  15266.0   \n",
       "1    20210331  2021/03/31  6:11:05 AM   9748.0   \n",
       "2    20210331  2021/03/31  6:30:00 AM  10244.0   \n",
       "3    20210331  2021/03/31  7:22:06 AM  10533.0   \n",
       "4    20210331  2021/03/31  7:25:06 AM  13911.0   \n",
       "\n",
       "                                              NOMBRE CATEGORIA    NIVEL  \\\n",
       "0                          CLINICA Y BOTICA SAN JUAN      II-1  Nivel 2   \n",
       "1                                HOSPITAL I OXAPAMPA      II-1  Nivel 2   \n",
       "2                 HOSPITAL II JORGE REATEGUI DELGADO      II-1  Nivel 2   \n",
       "3  HOSPITAL II LIMA NORTE CALLAO \"LUIS NEGREIROS ...      II-2  Nivel 2   \n",
       "4                                MARIA REICHE NEUMAN       I-3  Nivel 1   \n",
       "\n",
       "  INSTITUCIÓN     GRUPO SUB_GRUPO MACROREGIONES  ...  \\\n",
       "0     PRIVADO  PRIVADOS  PRIVADOS    Zona Norte  ...   \n",
       "1     ESSALUD  PÚBLICOS   ESSALUD   Zona Centro  ...   \n",
       "2     ESSALUD  PÚBLICOS   ESSALUD    Zona Norte  ...   \n",
       "3     ESSALUD  PÚBLICOS   ESSALUD           NaN  ...   \n",
       "4     ESSALUD  PÚBLICOS   ESSALUD      Zona Sur  ...   \n",
       "\n",
       "   TOT_PUNTOS_RED_INOPER_HOSP TOT_PUNTOS_RED_EMER TOT_PUNTOS_RED_OPER_EMER  \\\n",
       "0                         NaN                 NaN                      NaN   \n",
       "1                         NaN                 NaN                      NaN   \n",
       "2                         NaN                 NaN                      NaN   \n",
       "3                         NaN                 NaN                      NaN   \n",
       "4                         NaN                 NaN                      NaN   \n",
       "\n",
       "  TOT_PUNTOS_RED_INOPER_EMER  TOT_PUNTOS_RED_AHT  TOT_PUNTOS_RED_OPER_AHT  \\\n",
       "0                        NaN                 NaN                      NaN   \n",
       "1                        NaN                 NaN                      NaN   \n",
       "2                        NaN                 NaN                      NaN   \n",
       "3                        NaN                 NaN                      NaN   \n",
       "4                        NaN                 NaN                      NaN   \n",
       "\n",
       "   TOT_PUNTOS_RED_INOPER_AHT  TOT_PUNTOS_RED_AACT  TOT_PUNTOS_RED_OPER_AACT  \\\n",
       "0                        NaN                  NaN                       NaN   \n",
       "1                        NaN                  NaN                       NaN   \n",
       "2                        NaN                  NaN                       NaN   \n",
       "3                        NaN                  NaN                       NaN   \n",
       "4                        NaN                  NaN                       NaN   \n",
       "\n",
       "   TOT_PUNTOS_RED_INOPER_AACT  \n",
       "0                         NaN  \n",
       "1                         NaN  \n",
       "2                         NaN  \n",
       "3                         NaN  \n",
       "4                         NaN  \n",
       "\n",
       "[5 rows x 100 columns]"
      ]
     },
     "execution_count": 101,
     "metadata": {},
     "output_type": "execute_result"
    }
   ],
   "source": [
    "df_oxigen.head()"
   ]
  },
  {
   "cell_type": "code",
   "execution_count": 102,
   "metadata": {},
   "outputs": [
    {
     "name": "stdout",
     "output_type": "stream",
     "text": [
      "<class 'pandas.core.frame.DataFrame'>\n",
      "RangeIndex: 101587 entries, 0 to 101586\n",
      "Data columns (total 100 columns):\n",
      " #   Column                              Non-Null Count   Dtype  \n",
      "---  ------                              --------------   -----  \n",
      " 0   FECHACORTE                          101587 non-null  int64  \n",
      " 1   FECHAREGISTRO                       101587 non-null  object \n",
      " 2   CODIGO                              101405 non-null  float64\n",
      " 3   NOMBRE                              101404 non-null  object \n",
      " 4   CATEGORIA                           101404 non-null  object \n",
      " 5   NIVEL                               101404 non-null  object \n",
      " 6   INSTITUCIÓN                         101404 non-null  object \n",
      " 7   GRUPO                               101404 non-null  object \n",
      " 8   SUB_GRUPO                           101404 non-null  object \n",
      " 9   MACROREGIONES                       71292 non-null   object \n",
      " 10  UBIGEO                              101404 non-null  float64\n",
      " 11  REGION                              101404 non-null  object \n",
      " 12  PROVINCIA                           101404 non-null  object \n",
      " 13  DISTRITO                            101404 non-null  object \n",
      " 14  CIL_TOT_CILINDROS                   99202 non-null   float64\n",
      " 15  CIL_TOT_PROPIOS                     99202 non-null   float64\n",
      " 16  CIL_TOT_TERCEROS                    99202 non-null   float64\n",
      " 17  CIL_VOL_POT_MT3                     99202 non-null   float64\n",
      " 18  CIL_NU_CIL_LLEN_INI_DU24            99202 non-null   float64\n",
      " 19  CIL_NU_CIL_REABAST_DU24             99202 non-null   float64\n",
      " 20  CIL_VOL_DISP_M3_DU24                99202 non-null   float64\n",
      " 21  CIL_NU_CIL_CONSUM_CU24              99202 non-null   float64\n",
      " 22  CIL_VOL_M3_CU24                     99202 non-null   float64\n",
      " 23  CIL_SAL_FIN_M3_CU24                 99202 non-null   float64\n",
      " 24  PLAN_TOT_PLANTAS                    27854 non-null   float64\n",
      " 25  PLAN_TOT_PROPIOS                    19525 non-null   float64\n",
      " 26  PLAN_TOT_TERCEROS                   10780 non-null   float64\n",
      " 27  PLAN_TOT_OPER                       24239 non-null   float64\n",
      " 28  PLAN_TOT_NOOPER                     7520 non-null    float64\n",
      " 29  PLAN_TOT_CONEXION_RED               15939 non-null   float64\n",
      " 30  PLAN_TOT_NOCONEXION_RED             16146 non-null   float64\n",
      " 31  PLAN_TOT_CARGA                      17439 non-null   float64\n",
      " 32  PLAN_TOT_NOCARGA                    10366 non-null   float64\n",
      " 33  PLAN_NOOPER_CAP_NOM_PLAN_M3_H       7520 non-null    float64\n",
      " 34  PLAN_OPER_CAP_NOM_PLAN_M3_H         24239 non-null   float64\n",
      " 35  PLAN_OPER_CAP_ACT_PROD_M3_H         24239 non-null   float64\n",
      " 36  PLAN_OPER_HO_OPE_PLAN               24239 non-null   float64\n",
      " 37  PLAN_OPER_PROD_DIA_M3               24239 non-null   float64\n",
      " 38  PLAN_OPER_CONS_DIA_M3               24239 non-null   float64\n",
      " 39  PLAN_OPER_PRES_LLENADO              24239 non-null   float64\n",
      " 40  PLAN_OPER_CI_NU_CIL_CARG            24239 non-null   float64\n",
      " 41  PLAN_CI_OPER_VOL_TOT_M3             24239 non-null   float64\n",
      " 42  PLAN_OPER_COI_NU_CIL_CARG           24239 non-null   float64\n",
      " 43  PLAN_OPER_COI_VOL_TOT_M3            24239 non-null   float64\n",
      " 44  PLAN_OPER_CONS_MEN_TRANSF_M3        24239 non-null   float64\n",
      " 45  PLAN_PORC_PUREZA                    24239 non-null   float64\n",
      " 46  TAN_TOT_TANQUES                     22903 non-null   float64\n",
      " 47  TAN_TOT_PROPIOS                     4524 non-null    float64\n",
      " 48  TAN_TOT_NOPROPIOS                   18970 non-null   float64\n",
      " 49  TAN_TOT_OPER                        22708 non-null   float64\n",
      " 50  TAN_TOT_NOOPER                      906 non-null     float64\n",
      " 51  TAN_TOT_CONEXION_RED                21956 non-null   float64\n",
      " 52  TAN_TOT_NOCONEXION_RED              2244 non-null    float64\n",
      " 53  TAN_TOT_CARGA                       682 non-null     float64\n",
      " 54  TAN_TOT_NOCARGA                     22028 non-null   float64\n",
      " 55  TAN_NOOPER_CAP_MAX_ALM_OXI_M3       906 non-null     float64\n",
      " 56  TAN_OPER_CAP_MAX_ALM_OXI_M3         22708 non-null   float64\n",
      " 57  TAN_OPER_CONT_INI_DIA_M3            22708 non-null   float64\n",
      " 58  TAN_OPER_CANT_REC_DIA_M3            22708 non-null   float64\n",
      " 59  TAN_OPER_CONS_DIA_M3                22708 non-null   float64\n",
      " 60  TAN_OPER_SALD_FIN_DIA_ANT_M3        22708 non-null   float64\n",
      " 61  TAN_OPER_CI_NU_CIL_CARG             22708 non-null   float64\n",
      " 62  TAN_OPER_CI_VOL_TOT_M3              22708 non-null   float64\n",
      " 63  TAN_OPER_SISI_COI_NU_CIL_CARG       22708 non-null   float64\n",
      " 64  TAN_OPER_COI_VOL_TOT_M3             22708 non-null   float64\n",
      " 65  TAN_OPER_CONS_MEN_TRANSF_M3         22708 non-null   float64\n",
      " 66  CON_CANT_CONC_OPER_DA               24283 non-null   float64\n",
      " 67  CON_CANT_CONC_INOP_DA               24283 non-null   float64\n",
      " 68  CON_CANT_CONC_MANT_DA               24283 non-null   float64\n",
      " 69  CON_NU_CONC_USADOS                  24283 non-null   float64\n",
      " 70  CON_NU_CONC_DISPONIBLES             24283 non-null   float64\n",
      " 71  CON_ORI_PROPIO                      24283 non-null   float64\n",
      " 72  CON_ORI_TERCERO                     24283 non-null   float64\n",
      " 73  CON_CAP_REAL_PROM                   24283 non-null   float64\n",
      " 74  CON_PROM_OPER_DIA_ANT               24283 non-null   float64\n",
      " 75  CON_PROM_PROD_DIA_ANT               24283 non-null   float64\n",
      " 76  TOT_PUNTOS_RED_UCI_ADULTOS          26315 non-null   float64\n",
      " 77  TOT_PUNTOS_RED_OPER_UCI_ADULTOS     26315 non-null   float64\n",
      " 78  TOT_PUNTOS_RED_INOPER_UCI_ADULTOS   26315 non-null   float64\n",
      " 79  TOT_PUNTOS_RED_UCI_NEONATAL         11326 non-null   float64\n",
      " 80  TOT_PUNTOS_RED_OPER_UCI_NEONATAL    11326 non-null   float64\n",
      " 81  TOT_PUNTOS_RED_INOPER_UCI_NEONATAL  11326 non-null   float64\n",
      " 82  TOT_PUNTOS_RED_UCI_PEDIA            7998 non-null    float64\n",
      " 83  TOT_PUNTOS_RED_OPER_UCI_PEDIA       7998 non-null    float64\n",
      " 84  TOT_PUNTOS_RED_INOPER_UCI_PEDIA     7998 non-null    float64\n",
      " 85  TOT_PUNTOS_RED_UCIN                 15065 non-null   float64\n",
      " 86  TOT_PUNTOS_RED_OPER_UCIN            15065 non-null   float64\n",
      " 87  TOT_PUNTOS_RED_INOPER_UCIN          15065 non-null   float64\n",
      " 88  TOT_PUNTOS_RED_HOSP                 33548 non-null   float64\n",
      " 89  TOT_PUNTOS_RED_OPER_HOSP            33548 non-null   float64\n",
      " 90  TOT_PUNTOS_RED_INOPER_HOSP          33548 non-null   float64\n",
      " 91  TOT_PUNTOS_RED_EMER                 30336 non-null   float64\n",
      " 92  TOT_PUNTOS_RED_OPER_EMER            30336 non-null   float64\n",
      " 93  TOT_PUNTOS_RED_INOPER_EMER          30336 non-null   float64\n",
      " 94  TOT_PUNTOS_RED_AHT                  9682 non-null    float64\n",
      " 95  TOT_PUNTOS_RED_OPER_AHT             9682 non-null    float64\n",
      " 96  TOT_PUNTOS_RED_INOPER_AHT           9682 non-null    float64\n",
      " 97  TOT_PUNTOS_RED_AACT                 5279 non-null    float64\n",
      " 98  TOT_PUNTOS_RED_OPER_AACT            5279 non-null    float64\n",
      " 99  TOT_PUNTOS_RED_INOPER_AACT          5279 non-null    float64\n",
      "dtypes: float64(88), int64(1), object(11)\n",
      "memory usage: 77.5+ MB\n"
     ]
    }
   ],
   "source": [
    "df_oxigen.info()"
   ]
  },
  {
   "cell_type": "code",
   "execution_count": 111,
   "metadata": {},
   "outputs": [
    {
     "data": {
      "text/plain": [
       "(136982, 137449)"
      ]
     },
     "execution_count": 111,
     "metadata": {},
     "output_type": "execute_result"
    }
   ],
   "source": [
    "# Validar integridad del identificador único\n",
    "len(df_main['id_persona'].unique()),df_main.shape[0]"
   ]
  },
  {
   "cell_type": "code",
   "execution_count": 105,
   "metadata": {},
   "outputs": [
    {
     "data": {
      "text/plain": [
       "0"
      ]
     },
     "execution_count": 105,
     "metadata": {},
     "output_type": "execute_result"
    }
   ],
   "source": [
    "#Nulos en id_persona\n",
    "df_main['id_persona'].isna().sum()"
   ]
  },
  {
   "cell_type": "code",
   "execution_count": 106,
   "metadata": {},
   "outputs": [
    {
     "data": {
      "text/plain": [
       "29048330    3\n",
       "26422634    3\n",
       "6054506     3\n",
       "16947420    2\n",
       "2857158     2\n",
       "Name: id_persona, dtype: int64"
      ]
     },
     "execution_count": 106,
     "metadata": {},
     "output_type": "execute_result"
    }
   ],
   "source": [
    "#Conteo de cuantas veces se duplican los id_persona\n",
    "filtro_duplicados = df_main['id_persona'].duplicated(keep=False)\n",
    "df_main[filtro_duplicados]['id_persona'].value_counts().head()"
   ]
  },
  {
   "cell_type": "code",
   "execution_count": 107,
   "metadata": {},
   "outputs": [],
   "source": [
    "#TODO :Crear variable si fue reinfección(0,1)\n",
    "#TODO: Crear variable si con el # de la reinfección (1,2,3,etc)"
   ]
  },
  {
   "cell_type": "code",
   "execution_count": 108,
   "metadata": {},
   "outputs": [
    {
     "name": "stdout",
     "output_type": "stream",
     "text": [
      "8048\n",
      "5.86 %\n"
     ]
    }
   ],
   "source": [
    "edad_na_count= df_main ['edad'].isna().sum()\n",
    "print(edad_na_count)\n",
    "print(round(edad_na_count/df_main.shape[0]*100,2),'%')"
   ]
  },
  {
   "cell_type": "code",
   "execution_count": 109,
   "metadata": {},
   "outputs": [
    {
     "data": {
      "image/png": "[encoded data removed]",
      "text/plain": [
       "<Figure size 432x288 with 1 Axes>"
      ]
     },
     "metadata": {
      "needs_background": "light"
     },
     "output_type": "display_data"
    }
   ],
   "source": [
    "df_main ['edad'].hist()\n",
    "plt.show()"
   ]
  },
  {
   "cell_type": "code",
   "execution_count": 112,
   "metadata": {},
   "outputs": [
    {
     "data": {
      "text/plain": [
       "<function matplotlib.pyplot.show(close=None, block=None)>"
      ]
     },
     "execution_count": 112,
     "metadata": {},
     "output_type": "execute_result"
    },
    {
     "data": {
      "image/png": "[encoded data removed]",
      "text/plain": [
       "<Figure size 432x288 with 1 Axes>"
      ]
     },
     "metadata": {
      "needs_background": "light"
     },
     "output_type": "display_data"
    }
   ],
   "source": [
    "df_main['edad'].hist ()\n",
    "plt.show"
   ]
  },
  {
   "cell_type": "code",
   "execution_count": 113,
   "metadata": {},
   "outputs": [
    {
     "data": {
      "text/plain": [
       "count    129401.000000\n",
       "mean         52.132379\n",
       "std          20.468480\n",
       "min           0.000000\n",
       "25%          37.000000\n",
       "50%          54.000000\n",
       "75%          68.000000\n",
       "max         111.000000\n",
       "Name: edad, dtype: float64"
      ]
     },
     "execution_count": 113,
     "metadata": {},
     "output_type": "execute_result"
    }
   ],
   "source": [
    "df_main['edad'].describe()"
   ]
  },
  {
   "cell_type": "code",
   "execution_count": 116,
   "metadata": {},
   "outputs": [
    {
     "data": {
      "text/plain": [
       "array([  0. ,  18.5,  37. ,  55.5,  74. ,  92.5, 111. ])"
      ]
     },
     "execution_count": 116,
     "metadata": {},
     "output_type": "execute_result"
    }
   ],
   "source": [
    "#grupos de edad\n",
    "counts,bins=np.histogram(df_main['edad'].dropna().values,bins=6)\n",
    "bins"
   ]
  },
  {
   "cell_type": "code",
   "execution_count": 134,
   "metadata": {},
   "outputs": [],
   "source": [
    "edad_bins= pd.cut(df_main['edad'],bins=[0,5,13,18,25,40,55,65,80,95,112])\n",
    "edad_bins_count= edad_bins.value_counts()"
   ]
  },
  {
   "cell_type": "code",
   "execution_count": 137,
   "metadata": {},
   "outputs": [
    {
     "data": {
      "text/plain": [
       "(40, 55]     29736\n",
       "(65, 80]     26333\n",
       "(25, 40]     25616\n",
       "(55, 65]     23456\n",
       "(80, 95]     10021\n",
       "(18, 25]      7559\n",
       "(5, 13]       2244\n",
       "(13, 18]      1973\n",
       "(0, 5]        1964\n",
       "(95, 112]      454\n",
       "Name: edad, dtype: int64"
      ]
     },
     "execution_count": 137,
     "metadata": {},
     "output_type": "execute_result"
    }
   ],
   "source": [
    "edad_bins_count"
   ]
  },
  {
   "cell_type": "code",
   "execution_count": 138,
   "metadata": {},
   "outputs": [
    {
     "data": {
      "text/plain": [
       "<AxesSubplot:>"
      ]
     },
     "execution_count": 138,
     "metadata": {},
     "output_type": "execute_result"
    },
    {
     "data": {
      "image/png": "[encoded data removed]",
      "text/plain": [
       "<Figure size 432x288 with 1 Axes>"
      ]
     },
     "metadata": {
      "needs_background": "light"
     },
     "output_type": "display_data"
    }
   ],
   "source": [
    "edad_bins_count.sort_index().plot(kind='bar')"
   ]
  },
  {
   "cell_type": "code",
   "execution_count": 142,
   "metadata": {},
   "outputs": [],
   "source": [
    "#agregamos esto para crear la columna de edad bins en la tabla\n",
    "df_main['edad_bins']=edad_bins"
   ]
  },
  {
   "cell_type": "code",
   "execution_count": 139,
   "metadata": {},
   "outputs": [
    {
     "data": {
      "text/plain": [
       "(7051, 0.051299027275571306)"
      ]
     },
     "execution_count": 139,
     "metadata": {},
     "output_type": "execute_result"
    }
   ],
   "source": [
    "#Valores perdidos /missings\n",
    "df_main['sexo'].isna().sum(),df_main['sexo'].isna().sum()/df_main.shape[0]\n",
    "#no es muy grande no es un gran problema"
   ]
  },
  {
   "cell_type": "code",
   "execution_count": 140,
   "metadata": {},
   "outputs": [
    {
     "data": {
      "text/plain": [
       "(M    69486\n",
       " F    60912\n",
       " Name: sexo, dtype: int64,\n",
       " M    0.532876\n",
       " F    0.467124\n",
       " Name: sexo, dtype: float64)"
      ]
     },
     "execution_count": 140,
     "metadata": {},
     "output_type": "execute_result"
    }
   ],
   "source": [
    "df_main['sexo'].value_counts(),df_main['sexo'].value_counts(normalize=True)"
   ]
  },
  {
   "cell_type": "code",
   "execution_count": 179,
   "metadata": {},
   "outputs": [
    {
     "data": {
      "text/html": [
       "<div>\n",
       "<style scoped>\n",
       "    .dataframe tbody tr th:only-of-type {\n",
       "        vertical-align: middle;\n",
       "    }\n",
       "\n",
       "    .dataframe tbody tr th {\n",
       "        vertical-align: top;\n",
       "    }\n",
       "\n",
       "    .dataframe thead th {\n",
       "        text-align: right;\n",
       "    }\n",
       "</style>\n",
       "<table border=\"1\" class=\"dataframe\">\n",
       "  <thead>\n",
       "    <tr style=\"text-align: right;\">\n",
       "      <th></th>\n",
       "      <th>edad_bins</th>\n",
       "      <th>sexo</th>\n",
       "      <th>conteo</th>\n",
       "    </tr>\n",
       "  </thead>\n",
       "  <tbody>\n",
       "    <tr>\n",
       "      <th>0</th>\n",
       "      <td>(0, 5]</td>\n",
       "      <td>F</td>\n",
       "      <td>862</td>\n",
       "    </tr>\n",
       "    <tr>\n",
       "      <th>1</th>\n",
       "      <td>(0, 5]</td>\n",
       "      <td>M</td>\n",
       "      <td>1102</td>\n",
       "    </tr>\n",
       "    <tr>\n",
       "      <th>2</th>\n",
       "      <td>(5, 13]</td>\n",
       "      <td>F</td>\n",
       "      <td>944</td>\n",
       "    </tr>\n",
       "    <tr>\n",
       "      <th>3</th>\n",
       "      <td>(5, 13]</td>\n",
       "      <td>M</td>\n",
       "      <td>1300</td>\n",
       "    </tr>\n",
       "    <tr>\n",
       "      <th>4</th>\n",
       "      <td>(13, 18]</td>\n",
       "      <td>F</td>\n",
       "      <td>1334</td>\n",
       "    </tr>\n",
       "  </tbody>\n",
       "</table>\n",
       "</div>"
      ],
      "text/plain": [
       "  edad_bins sexo  conteo\n",
       "0    (0, 5]    F     862\n",
       "1    (0, 5]    M    1102\n",
       "2   (5, 13]    F     944\n",
       "3   (5, 13]    M    1300\n",
       "4  (13, 18]    F    1334"
      ]
     },
     "execution_count": 179,
     "metadata": {},
     "output_type": "execute_result"
    }
   ],
   "source": [
    "conteo_edad_x_sexo=(df_main[['edad_bins','sexo']].dropna() #Selección de colums y elimino NaNs\n",
    "                   .groupby(['edad_bins','sexo']).size() #Agrupo y cuento las obs. por intervalo de edad y sexo.\n",
    "                   .reset_index() #Convierte a data frame\n",
    "                   .rename({0:'conteo'},axis=1)) #Cambia el noombre de \"0\" a conteo\"\n",
    "conteo_edad_x_sexo.head()"
   ]
  },
  {
   "cell_type": "code",
   "execution_count": 180,
   "metadata": {},
   "outputs": [
    {
     "data": {
      "text/plain": [
       "<seaborn.axisgrid.FacetGrid at 0x29df4d43790>"
      ]
     },
     "execution_count": 180,
     "metadata": {},
     "output_type": "execute_result"
    },
    {
     "data": {
      "image/png": "[encoded data removed]",
      "text/plain": [
       "<Figure size 408.85x360 with 1 Axes>"
      ]
     },
     "metadata": {},
     "output_type": "display_data"
    }
   ],
   "source": [
    "#Gráfica de barras de cantidad de personas por intervalo de edad en cada genero\n",
    "g= sns.catplot(\n",
    "    data=conteo_edad_x_sexo ,kind=\"bar\",\n",
    "    x=\"edad_bins\" ,y=\"conteo\", hue =\"sexo\", \n",
    ")\n",
    "g.despine(left=True)\n",
    "g.set_xticklabels(rotation=90)"
   ]
  },
  {
   "cell_type": "code",
   "execution_count": null,
   "metadata": {},
   "outputs": [],
   "source": [
    "# Podemos sacar del grafico que los hospitalizados desde las edades de 25-40 son hospitalizadas las mujeres y de ahi se cambia a mayoria hombres."
   ]
  }
 ],
 "metadata": {
  "interpreter": {
   "hash": "55997a77c46372a900d98dce2291166f336db4a66e76354871134afb4891cd8b"
  },
  "kernelspec": {
   "display_name": "Python 3.8.12 ('lean_analytics')",
   "language": "python",
   "name": "python3"
  },
  "language_info": {
   "codemirror_mode": {
    "name": "ipython",
    "version": 3
   },
   "file_extension": ".py",
   "mimetype": "text/x-python",
   "name": "python",
   "nbconvert_exporter": "python",
   "pygments_lexer": "ipython3",
   "version": "3.9.11"
  },
  "orig_nbformat": 4
 },
 "nbformat": 4,
 "nbformat_minor": 2
}
